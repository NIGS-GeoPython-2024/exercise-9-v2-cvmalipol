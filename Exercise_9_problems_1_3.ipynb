{
  "cells": [
    {
      "cell_type": "markdown",
      "metadata": {
        "deletable": false,
        "editable": false,
        "nbgrader": {
          "cell_type": "markdown",
          "checksum": "c35e334e3ea28ab0fc63ab3991e1005a",
          "grade": false,
          "grade_id": "cell-831414fad4f17ee7",
          "locked": true,
          "schema_version": 3,
          "solution": false
        },
        "tags": [],
        "id": "JHoyFtLChVzS"
      },
      "source": [
        "# Exercise 9: Comparing data to predictions (20 points)\n",
        "\n",
        "The exercise this week will allow you to gain some experience with comparing data to predictions, such as how well two variables are correlated.\n",
        "\n",
        "### Tips for completing this exercise\n",
        "\n",
        "- Use **exactly** the same variable names as in the instructions because your answers will be automatically graded, and the tests that grade your answers rely on following the same formatting or variable naming as in the instructions.\n",
        "- **Please do not**:\n",
        "\n",
        "    - **Change the file names**. Do all of your editing in the provided `Exercise-9-problems-1-3.ipynb` file (this file).\n",
        "    - **Change the existing cell types**. You can add cells, but changing the cell types for existing cells (from code to markdown, for example) will also cause the automated grader to fail.\n",
        "\n",
        "## Problem 1: Linear data regression for detecting changing climate (8.5 points)\n",
        "\n",
        "For this problem we will again use the NOAA climate data from previous exercises with a slight twist. As a reminder, you will be working with a climate data file from the [US National Oceanographic and Atmospheric Administration (NOAA) climate database](https://www.ncdc.noaa.gov/cdo-web/). In order to jump right into things, we have provided you with [a data file that has already been processed](data/seasonal-temps.csv) containing the means and standard deviations of seasonal temperatures (in Celsius) for winter and summer for the years 1966-2022. The first 5 lines of the data file are:\n",
        "\n",
        "```\n",
        "Year,Jan mean,Jan std,May temp,May std\n",
        "1966,26.741935,0.478730,28.706452,1.139279\n",
        "1967,26.119355,1.172865,29.219355,0.480569\n",
        "1968,26.467742,0.813383,29.135484,0.526339\n",
        "1969,26.100000,0.643428,29.016129,0.873726\n",
        "```\n",
        "\n",
        "Your task is to load this data and use a least squares regression to fit trendlines to the temperature data.\n",
        "\n",
        "### Scores for this problem\n",
        "\n",
        "**Your score on this problem will be based on following criteria**:\n",
        "\n",
        "- Reading in the data file for this exercise\n",
        "- Properly converting the linear regressions formulas to a Python function and adding it to your `gdam_functions.py` script file from Exercise 8\n",
        "- Calculating the least-squares regression lines for \"summer\" (May) and winter (January), for two different time periods\n",
        "- Plotting your results\n",
        "- Including comments that explain what most lines in the code do\n",
        "- Uploading your notebook **and script file** to your GitHub repository for this week's exercise"
      ]
    },
    {
      "cell_type": "markdown",
      "metadata": {
        "deletable": false,
        "editable": false,
        "nbgrader": {
          "cell_type": "markdown",
          "checksum": "e6bdf561bc9f9673f79543ecb7dacb6f",
          "grade": false,
          "grade_id": "cell-623bc0391667345b",
          "locked": true,
          "schema_version": 3,
          "solution": false
        },
        "id": "g3d2NZVRhVzW"
      },
      "source": [
        "### Part 1: Reading the data file (1 point)\n",
        "\n",
        "Your first task is to read in [the data file for this problem](data/seasonal-temps.csv).\n",
        "\n",
        "- For this, you should use the Pandas `read_csv()` funtion to read in the data file [data/seasonal-temps.csv](data/seasonal-temps.csv) into the variable `data`\n",
        "    - You do not need to skip any rows or specify an index column"
      ]
    },
    {
      "cell_type": "code",
      "execution_count": 1,
      "metadata": {
        "deletable": false,
        "nbgrader": {
          "cell_type": "code",
          "checksum": "88691601966f30662c0b680faa7e78c8",
          "grade": false,
          "grade_id": "problem_1_ag_p1_read_data",
          "locked": false,
          "schema_version": 3,
          "solution": true
        },
        "id": "kwTeG5zDhVzZ"
      },
      "outputs": [],
      "source": [
        "# Import Pandas and NumPy\n",
        "import pandas as pd\n",
        "\n",
        "data = pd.read_csv('/content/seasonal-temps-mac.csv')"
      ]
    },
    {
      "cell_type": "code",
      "execution_count": 2,
      "metadata": {
        "deletable": false,
        "editable": false,
        "nbgrader": {
          "cell_type": "code",
          "checksum": "d7ae4ee06982b0e17fbb2da6343827b5",
          "grade": true,
          "grade_id": "problem_1_ag_p1_read_data_tests",
          "locked": true,
          "points": 1,
          "schema_version": 3,
          "solution": false
        },
        "id": "nvF3HRhbhVzb",
        "colab": {
          "base_uri": "https://localhost:8080/"
        },
        "outputId": "4064b355-7fd3-419f-90ea-a00572077620"
      },
      "outputs": [
        {
          "output_type": "stream",
          "name": "stdout",
          "text": [
            "First row of the DataFrame:\n",
            "    Year   Jan mean  Jan std   May mean   May std\n",
            "0  1966  26.741935  0.47873  28.706452  1.139279\n"
          ]
        }
      ],
      "source": [
        "# This test should print the first row of the data file\n",
        "print(\"First row of the DataFrame:\\n\", data.head(1))\n"
      ]
    },
    {
      "cell_type": "markdown",
      "metadata": {
        "deletable": false,
        "editable": false,
        "nbgrader": {
          "cell_type": "markdown",
          "checksum": "f2f6af575f77f52df259af76c9136c41",
          "grade": false,
          "grade_id": "cell-635b64c41547c355",
          "locked": true,
          "schema_version": 3,
          "solution": false
        },
        "tags": [],
        "id": "D6TI1mKZhVzb"
      },
      "source": [
        "### Part 2: A linear regression function (1.5 points)\n",
        "\n",
        "Your next task in this problem is to create a function that calculates the slopes `B` and *y*-intercepts `A` for [unweighted linear regression lines](https://introqg-site.readthedocs.io/en/latest/notebooks/L2/least-squares.html). As you may recall from the lesson, `A` and `B` can be calculated as\n",
        "\n",
        "\\begin{equation}\n",
        "  \\Large\n",
        "  A = \\frac{\\sum{x^2} \\sum{y} - \\sum{x} \\sum{x y}}{\\Delta}\n",
        "\\end{equation}\n",
        "\n",
        "and\n",
        "\n",
        "\\begin{equation}\n",
        "  \\Large\n",
        "  B = \\frac{N \\sum{x y} - \\sum{x} \\sum{y}}{\\Delta},\n",
        "\\end{equation}\n",
        "\n",
        "where\n",
        "\n",
        "\\begin{equation}\n",
        "  \\Large\n",
        "  \\Delta = N \\sum{x^2} - \\left(\\sum{x} \\right)^2.\n",
        "\\end{equation}\n",
        "\n",
        "- Create a function `linregress` in your `gdam_functions.py` script file that returns the slope `B` and *y*-intercept `A` for a regression line for data `x` and `y`.\n",
        "    - **NOTE**: You can return both `A` and `B` in the same `return` statement by separating the values with a comma\n",
        "    - **NOTE**: You may need to restart your kernel in order for the new function to be imported. You may receive an `ImportError` otherwise."
      ]
    },
    {
      "cell_type": "code",
      "execution_count": 3,
      "metadata": {
        "deletable": false,
        "nbgrader": {
          "cell_type": "code",
          "checksum": "9c5d956d9ebbcb62f365bac1d5c36198",
          "grade": false,
          "grade_id": "problem_1_ag_p2_function",
          "locked": false,
          "schema_version": 3,
          "solution": true
        },
        "id": "DvZObg9-hVzc"
      },
      "outputs": [],
      "source": [
        "# Import your new function below using the format \"from gdam_functions import linregress\"\n",
        "# (just copy and paste the text in quotes above in place of \"raise NotImplementedError()\")\n",
        "\n",
        "# YOUR CODE HERE\n",
        "from gdam_functions import linregress"
      ]
    },
    {
      "cell_type": "code",
      "source": [
        "!pip install nose"
      ],
      "metadata": {
        "colab": {
          "base_uri": "https://localhost:8080/"
        },
        "id": "nFR8jz_IH9rj",
        "outputId": "7f2d38c5-1520-409e-f005-f047829546d4"
      },
      "execution_count": 4,
      "outputs": [
        {
          "output_type": "stream",
          "name": "stdout",
          "text": [
            "Collecting nose\n",
            "  Downloading nose-1.3.7-py3-none-any.whl.metadata (1.7 kB)\n",
            "Downloading nose-1.3.7-py3-none-any.whl (154 kB)\n",
            "\u001b[?25l   \u001b[90m━━━━━━━━━━━━━━━━━━━━━━━━━━━━━━━━━━━━━━━━\u001b[0m \u001b[32m0.0/154.7 kB\u001b[0m \u001b[31m?\u001b[0m eta \u001b[36m-:--:--\u001b[0m\r\u001b[2K   \u001b[91m━━━━━━━━━━━━━━━━━━━━━━━━━━━━━━━━━━━━━━━\u001b[0m\u001b[91m╸\u001b[0m \u001b[32m153.6/154.7 kB\u001b[0m \u001b[31m6.7 MB/s\u001b[0m eta \u001b[36m0:00:01\u001b[0m\r\u001b[2K   \u001b[90m━━━━━━━━━━━━━━━━━━━━━━━━━━━━━━━━━━━━━━━━\u001b[0m \u001b[32m154.7/154.7 kB\u001b[0m \u001b[31m3.8 MB/s\u001b[0m eta \u001b[36m0:00:00\u001b[0m\n",
            "\u001b[?25hInstalling collected packages: nose\n",
            "Successfully installed nose-1.3.7\n"
          ]
        }
      ]
    },
    {
      "cell_type": "code",
      "execution_count": 5,
      "metadata": {
        "deletable": false,
        "editable": false,
        "nbgrader": {
          "cell_type": "code",
          "checksum": "7d2dad43b60799ae6b3774ea98f15eac",
          "grade": true,
          "grade_id": "problem_1_ag_p2_function_tests",
          "locked": true,
          "points": 1.5,
          "schema_version": 3,
          "solution": false
        },
        "id": "kjT3KQgdhVzd",
        "colab": {
          "base_uri": "https://localhost:8080/"
        },
        "outputId": "c82da2c9-fb71-4b25-dfd3-441763babd53"
      },
      "outputs": [
        {
          "output_type": "stream",
          "name": "stdout",
          "text": [
            "Slope and intercept for dataset 1: 1.0000 and 0.0000.\n",
            "Slope and intercept for dataset 2: 0.9750 and 0.0799.\n"
          ]
        }
      ],
      "source": [
        "# These visible tests with fake data should work\n",
        "import numpy as np\n",
        "from nose.tools import ok_, assert_equal\n",
        "\n",
        "# Fake data for linregress tests\n",
        "x1 = np.array([1.0, 2.0])\n",
        "y1 = np.array([1.0, 2.0])\n",
        "x2 = np.array([1.0, 2.0, 2.5, 3.6, 4.2, 5.9])\n",
        "y2 = np.array([1.0, 2.0, 2.7, 3.1, 4.7, 5.7])\n",
        "\n",
        "# Fake line slopes, intercepts\n",
        "a1, b1 = linregress(x1, y1)\n",
        "a2, b2 = linregress(x2, y2)\n",
        "\n",
        "# Print results\n",
        "print(f\"Slope and intercept for dataset 1: {b1:.4f} and {a1:.4f}.\")\n",
        "print(f\"Slope and intercept for dataset 2: {b2:.4f} and {a2:.4f}.\")\n",
        "\n",
        "# Check that the linregress function works\n",
        "assert_equal(a1, 0.0)\n",
        "assert_equal(b1, 1.0)\n",
        "assert_equal(round(a2, 4), 0.0799)\n",
        "assert_equal(round(b2, 4), 0.975)"
      ]
    },
    {
      "cell_type": "markdown",
      "metadata": {
        "deletable": false,
        "editable": false,
        "nbgrader": {
          "cell_type": "markdown",
          "checksum": "1168831fd7dc142238fc6603d20671cb",
          "grade": false,
          "grade_id": "cell-e014e13b5418c567",
          "locked": true,
          "schema_version": 3,
          "solution": false,
          "task": false
        },
        "tags": [],
        "id": "J-es5vxvhVze"
      },
      "source": [
        "### Part 3: Calculating seasonal regression lines (1.5 points)\n",
        "\n",
        "Now we can calculate the slopes and y-intercepts for our weather data to determine how summer and winter temperatures have varied over the observation period. We'll do this for two time ranges: The **entire observation period** and the **last 20 years (2003-2022)**.\n",
        "\n",
        "- Use your `linregress` function to calculate the slopes and intercepts for summer and winter for the time periods mentioned above (the entire range of years, and 2003-2022).\n",
        "You should name these values as follows:\n",
        "    - Entire range of years: `A_winter` and `B_winter` for winter, `A_summer` and `B_summer` for summer\n",
        "    - Last 20 years: `A_winter20` and `B_winter20` for winter, `A_summer20` and `B_summer20` for summer\n",
        "\n",
        "**Hint**: In this problem, `x` will be your time data, and `y` will be your temperatures."
      ]
    },
    {
      "cell_type": "code",
      "execution_count": 6,
      "metadata": {
        "deletable": false,
        "nbgrader": {
          "cell_type": "code",
          "checksum": "28d5c7da20ca4e46750fbeb5488fc459",
          "grade": false,
          "grade_id": "problem_1_ag_p3_season_calc",
          "locked": false,
          "schema_version": 3,
          "solution": true,
          "task": false
        },
        "id": "fgnLMIgmhVzf"
      },
      "outputs": [],
      "source": [
        "# Your calculations go below.\n",
        "# Note: Replace both of the 'None' values with a single call of linregress() on each line\n",
        "\n",
        "# Data for the entire observation period\n",
        "# January data for winter and May data for summer\n",
        "x_years = data.loc[:, \"Year\"]\n",
        "y_winter = data.loc[:, \"Jan mean\"]\n",
        "y_summer = data.loc[:, \"May mean\"]\n",
        "\n",
        "# Setting the data for 20 years (2003 - 2022)\n",
        "last_20_years = data[data['Year'] >= 2003]\n",
        "#print(last_20_years.head())\n",
        "\n",
        "# Winter and Summer data for the last 20 years\n",
        "x_years20 = last_20_years.loc[:, \"Year\"]\n",
        "y_winter20 = last_20_years.loc[:, 'Jan mean']\n",
        "y_summer20 = last_20_years.loc[:, \"May mean\"]\n",
        "\n",
        "# Slope and y-intercept calculation using linregress function\n",
        "A_winter, B_winter = linregress(x_years, y_winter)\n",
        "A_summer, B_summer = linregress(x_years, y_summer)\n",
        "A_winter20, B_winter20 = linregress(x_years20, y_winter20)\n",
        "A_summer20, B_summer20 = linregress(x_years20, y_summer20)"
      ]
    },
    {
      "cell_type": "code",
      "execution_count": 7,
      "metadata": {
        "deletable": false,
        "editable": false,
        "nbgrader": {
          "cell_type": "code",
          "checksum": "41d335782574df5c95b1b83a1e343a48",
          "grade": true,
          "grade_id": "problem_1_ag_p3_season_calc_variable_tests",
          "locked": true,
          "points": 0.5,
          "schema_version": 3,
          "solution": false,
          "task": false
        },
        "tags": [],
        "id": "Wx9KG0QihVzf",
        "colab": {
          "base_uri": "https://localhost:8080/"
        },
        "outputId": "7810d866-a6e5-4ab7-c376-ba5429eb0914"
      },
      "outputs": [
        {
          "output_type": "stream",
          "name": "stdout",
          "text": [
            "Winter (all years) slope: 0.00536. Expected value: 0.00536.\n",
            "Winter (all years) intercept 16.0. Expected value: 16.0\n"
          ]
        }
      ],
      "source": [
        "###### This test should work\n",
        "print(f\"Winter (all years) slope: {B_winter:.5f}. Expected value: 0.00536.\")\n",
        "print(f\"Winter (all years) intercept {A_winter:.1f}. Expected value: 16.0\")\n"
      ]
    },
    {
      "cell_type": "code",
      "execution_count": 8,
      "metadata": {
        "deletable": false,
        "editable": false,
        "nbgrader": {
          "cell_type": "code",
          "checksum": "066e8ec3c0c9f141cd5cfb85304e15cc",
          "grade": true,
          "grade_id": "problem_1_ag_p3_season_calc_value_tests",
          "locked": true,
          "points": 1,
          "schema_version": 3,
          "solution": false,
          "task": false
        },
        "tags": [],
        "id": "kh8Gd6ffhVzh",
        "colab": {
          "base_uri": "https://localhost:8080/"
        },
        "outputId": "87fbd553-e87c-4a32-d8e5-2087ff3caf07"
      },
      "outputs": [
        {
          "output_type": "stream",
          "name": "stdout",
          "text": [
            "Summer (last 20 years) slope: 0.02437. Expected value: 0.02437.\n",
            "Summer (last 20 years) intercept: -19.8. Expected value: -19.8.\n"
          ]
        }
      ],
      "source": [
        "# This test should work\n",
        "print(f\"Summer (last 20 years) slope: {B_summer20:.5f}. Expected value: 0.02437.\")\n",
        "print(f\"Summer (last 20 years) intercept: {A_summer20:.1f}. Expected value: -19.8.\")\n"
      ]
    },
    {
      "cell_type": "markdown",
      "metadata": {
        "deletable": false,
        "editable": false,
        "nbgrader": {
          "cell_type": "markdown",
          "checksum": "09ba375920d3984ef6c45d63ac59c510",
          "grade": false,
          "grade_id": "cell-d54feb83f47b84a6",
          "locked": true,
          "schema_version": 3,
          "solution": false
        },
        "tags": [],
        "id": "x2J0yo1qhVzh"
      },
      "source": [
        "### Part 4: Plotting your results (4.5 points)\n",
        "\n",
        "Your last coding task for this problem is to create some plots of your seasonal temperature data and their trendlines. An example of the types of plots you should create are below.\n",
        "**Note**: You could create two separate plots for the different time periods, and not use subplots as shown in the example below.\n",
        "\n",
        "![Temperature trends in Helsinki](img/temp-slopes.png)\n",
        "\n",
        "- Create 2 plots of the seasonal temperature data: (**1**) one for the entire time covered in the data and (**2**) another for the last 20 years of data\n",
        "    - Plot the seasonal average temperature data as a Pandas scatter plot with error bars showing the standard deviation in seasonal temperature\n",
        "    - Also plot the regression lines for each season as well to compare to the yearly temperature data. You may want to consult [the hints for this week's exercise](https://geo-python-upd.readthedocs.io/en/latest/lessons/L9/exercise-9.html#general-hints-for-exercise-9) about how to plot the regression lines.\n",
        "    - Plot the temperature data for both seasons on the same plot, using a warm color (e.g., red) for summer and a cool color (e.g., blue) for winter. You can find some convenient color names you can use in the [Matplotlib documentation online](https://matplotlib.org/stable/gallery/color/named_colors.html).\n",
        "    - Be sure to set the figure size to be slightly larger, as was done in Exercise 1\n",
        "- Include axis labels, a title and a legend for each plot, as well as text displaying the slope of the regression lines for both the summer and winter seasons\n",
        "    - If your plot legend is empty, be sure that you have a label included for the scatter plot for each season with the text name of that season\n",
        "- Add figure captions in the Markdown cell below each Python cell for your plots that describe the plots as if they were in a scientific journal article"
      ]
    },
    {
      "cell_type": "code",
      "execution_count": 9,
      "metadata": {
        "deletable": false,
        "nbgrader": {
          "cell_type": "code",
          "checksum": "4f7f4e687534e4a86dd41dab7f168b98",
          "grade": true,
          "grade_id": "problem_1_mg_p4_plot_all",
          "locked": false,
          "points": 1.5,
          "schema_version": 3,
          "solution": true
        },
        "tags": [],
        "id": "VCakk3qIhVzi",
        "colab": {
          "base_uri": "https://localhost:8080/",
          "height": 641
        },
        "outputId": "6410d27d-459c-4c09-fea7-5b0cae72abcf"
      },
      "outputs": [
        {
          "output_type": "display_data",
          "data": {
            "text/plain": [
              "<Figure size 1100x700 with 1 Axes>"
            ],
            "image/png": "[encoded data removed]"
          },
          "metadata": {}
        }
      ],
      "source": [
        "# Plot for all years\n",
        "\n",
        "import matplotlib.pyplot as plt\n",
        "\n",
        "# Line equation : y = mx + b\n",
        "def line_eq(m, x , b):\n",
        "  y = m * x + b\n",
        "  return y\n",
        "\n",
        "# Standard deviation data for each year\n",
        "winter_std = data.loc[:,\"Jan std\"]\n",
        "summer_std = data.loc[:, \"May std\"]\n",
        "\n",
        "# Plot for the entire observation period\n",
        "plt.figure(figsize = (11,7))\n",
        "plt.scatter(x_years, y_winter, label = \"Winter\", color = 'c')\n",
        "plt.scatter(x_years, y_summer, label = \"Summer\", color = 'r')\n",
        "plt.vlines(x_years, y_winter - winter_std, y_winter + winter_std, color = 'c')\n",
        "plt.vlines(x_years, y_summer - summer_std, y_summer + summer_std, color = 'r')\n",
        "plt.plot(x_years, line_eq(B_winter, x_years, A_winter), color = 'c', linewidth = 1, label = f\"Slope: {B_winter:.3f}\")\n",
        "plt.plot(x_years, line_eq(B_summer, x_years, A_summer), color = 'r', linewidth = 1, label = f\"Slope: {B_summer:.3f}\")\n",
        "plt.legend(loc = 'upper left',prop = {'size':8})\n",
        "plt.xlabel(\"Year\")\n",
        "plt.ylabel(f\"Mean Temperature (\\N{DEGREE SIGN} C)\")\n",
        "plt.title(\"Temperature Data for the Entire Observation Period\")\n",
        "plt.show()"
      ]
    },
    {
      "cell_type": "markdown",
      "metadata": {
        "deletable": false,
        "nbgrader": {
          "cell_type": "markdown",
          "checksum": "2a87109e642a8848a67dc639c901d9ea",
          "grade": true,
          "grade_id": "problem_1_mg_p4_plot_all_caption",
          "locked": false,
          "points": 0.5,
          "schema_version": 3,
          "solution": true
        },
        "id": "SMYmZt4DhVzi"
      },
      "source": [
        "Figure 1. Mean temperature plot during the months of January (winter) and May (summer) from 1966 to 2022. The slope of the line resulted in 0.005 and 0.001 for winter and summer, respectively. The range of the error bars was plotted by calculating the sum of the mean and standard deviation for its upper value and its difference for its lower value."
      ]
    },
    {
      "cell_type": "code",
      "execution_count": 10,
      "metadata": {
        "deletable": false,
        "editable": false,
        "nbgrader": {
          "cell_type": "code",
          "checksum": "40d6d94a5addc5c16ffde19d1fddb409",
          "grade": true,
          "grade_id": "problem_1_mg_p4_plot_20",
          "locked": false,
          "points": 2,
          "schema_version": 3,
          "solution": true
        },
        "tags": [],
        "id": "nvJEyp8fhVzi",
        "colab": {
          "base_uri": "https://localhost:8080/",
          "height": 641
        },
        "outputId": "bd540447-7ae9-4f09-ba17-ee3ef8ba4bb8"
      },
      "outputs": [
        {
          "output_type": "display_data",
          "data": {
            "text/plain": [
              "<Figure size 1100x700 with 1 Axes>"
            ],
            "image/png": "[encoded data removed]"
          },
          "metadata": {}
        }
      ],
      "source": [
        "# Plot for the years 2003 - 2022\n",
        "\n",
        "# Standard deviation data\n",
        "winter20_std = last_20_years.loc[:, \"Jan std\"]\n",
        "summer20_std = last_20_years.loc[:, \"May std\"]\n",
        "\n",
        "\n",
        "# Plot for the last 20 years\n",
        "plt.figure(figsize = (11,7))\n",
        "plt.scatter(x_years20, y_winter20, color = 'c', label = 'Winter')\n",
        "plt.scatter(x_years20, y_summer20, color = 'r', label = \"Summer\")\n",
        "plt.vlines(x_years20, y_winter20 + winter20_std, y_winter20 - winter20_std, color = 'c')\n",
        "plt.vlines(x_years20, y_summer20 + summer20_std, y_summer20 - summer20_std, color = 'r')\n",
        "plt.plot(x_years20, line_eq(B_winter20, x_years20, A_winter20), color = 'c', linewidth = 1, label = f\"Slope: {B_winter20:.3f}\")\n",
        "plt.plot(x_years20, line_eq(B_summer20, x_years20, A_summer20), color = 'r', linewidth = 1, label = f\"Slope: {B_summer20:.3f}\")\n",
        "plt.xticks(x_years20)\n",
        "plt.legend(loc = 'upper left',prop = {'size':8})\n",
        "plt.xlabel(\"Year\")\n",
        "plt.ylabel(f\"Mean Temperature (\\N{DEGREE SIGN} C)\")\n",
        "plt.title(\"Mean Temperature during January and May from 2003 to 2022\")\n",
        "plt.show()"
      ]
    },
    {
      "cell_type": "markdown",
      "metadata": {
        "deletable": false,
        "nbgrader": {
          "cell_type": "markdown",
          "checksum": "787c3645af0b2745f51986a9a22d4631",
          "grade": true,
          "grade_id": "problem_1_mg_p4_plot_20_caption",
          "locked": false,
          "points": 0.5,
          "schema_version": 3,
          "solution": true
        },
        "id": "k03FEAaMhVzj"
      },
      "source": [
        "Figure 2. Mean temperature plot during the months of January (winter) and May (summer) from 2003 to 2022. The best-fit line shows a slope of 0.028 and 0.024 for winter and summer, respectively. The error bars are also plotted by calculating the sum of the mean and standard deviation for its upper bound while its difference was used for its lower bound."
      ]
    },
    {
      "cell_type": "markdown",
      "metadata": {
        "deletable": false,
        "editable": false,
        "nbgrader": {
          "cell_type": "markdown",
          "checksum": "f2817887627b42a4744130cf2567b188",
          "grade": false,
          "grade_id": "cell-6850ec8b78f8b9a4",
          "locked": true,
          "schema_version": 3,
          "solution": false,
          "task": false
        },
        "tags": [],
        "id": "yR0QUY2MhVzj"
      },
      "source": [
        "## Problem 2 - Linear correlation: Is a line a good fit for our data? (6 points)\n",
        "\n",
        "In Problem 1 we used least squares regressions to calculate lines that best fit our data. One thing we did not consider, however, was whether a line was a suitable model for our data. To consider this another way, we could ask ourselves how well do our data plot on a line? This question will be the focus of Problem 2, where we will calculate the linear correlation coefficient $r$ to explore how well our data fall on a line. Notably, in doing this we will *not* consider the standard deviations in our seasonal temperatures, only the mean values for the different seasons.\n",
        "\n",
        "### Scores for this problem\n",
        "\n",
        "**Your score on this problem will be based on following criteria**:\n",
        "\n",
        "- Properly converting the linear correlation coefficient formula to a Python function and adding it to your `gdam_functions.py` script file.\n",
        "- Calculating linear corelation coefficients for summer and winter and for the two different time periods\n",
        "- Plotting your results\n",
        "- Including comments that explain what most lines in the code do\n",
        "- Uploading your notebook and modified script file to your GitHub repository for this week's exercise"
      ]
    },
    {
      "cell_type": "markdown",
      "metadata": {
        "deletable": false,
        "nbgrader": {
          "cell_type": "markdown",
          "checksum": "008e75b1d1b322b916e824ec7451273a",
          "grade": false,
          "grade_id": "cell-56b31de6ee98b3bb",
          "locked": true,
          "schema_version": 3,
          "solution": false,
          "task": false
        },
        "tags": [],
        "id": "CzmEEozrhVzj"
      },
      "source": [
        "### Part 1: A correlation coefficient function (1.5 points)\n",
        "\n",
        "As we have seen in this week's lesson, the correlation coefficient $r$ can be used to determine how well two variables are linearly correlated with one another. In other words, how well does a line relate the two. Mathematically, we can define the correlation coefficient $r$ as\n",
        "\n",
        "\\begin{equation}\n",
        "  \\Large\n",
        "  r = \\frac{\\sum{\\left(x_{i} - \\bar{x} \\right)\\left(y_{i} - \\bar{y} \\right)}}{\\sqrt{\\sum{\\left(x_{i} - \\bar{x} \\right)^2} \\sum{\\left(y_{i} - \\bar{y} \\right)^2}}},\n",
        "\\end{equation}\n",
        "\n",
        "where $x_{i}$ is the $i$th value along the $x$-axis, $\\bar{x}$ is the mean of the values on the $x$-axis, and similarly for the values of $y$.\n",
        "\n",
        "Your task in this part of the problem is to make a function for calculating $r$.\n",
        "\n",
        "- Create a function `pearson()` in your `gdam_functions.py` script file that returns the correlation coefficient $r$ between two variables `x` and `y`"
      ]
    },
    {
      "cell_type": "code",
      "execution_count": 11,
      "metadata": {
        "deletable": false,
        "editable": false,
        "nbgrader": {
          "cell_type": "code",
          "checksum": "85da6943e874012b1e19096e1c9fa35a",
          "grade": false,
          "grade_id": "problem_2_ag_p1_function",
          "locked": false,
          "schema_version": 3,
          "solution": true,
          "task": false
        },
        "tags": [],
        "id": "P_UyqvZOhVzj"
      },
      "outputs": [],
      "source": [
        "# Import your new function below using the format \"from introqg_functions import pearson\"\n",
        "# (just copy and paste the text in quotes above in place of \"raise NotImplementedError()\")\n",
        "\n",
        "from gdam_functions import pearson"
      ]
    },
    {
      "cell_type": "code",
      "execution_count": 12,
      "metadata": {
        "deletable": false,
        "editable": false,
        "nbgrader": {
          "cell_type": "code",
          "checksum": "260beec82d47215c482a23505dec4526",
          "grade": true,
          "grade_id": "problem_2_ag_p1_function_tests",
          "locked": true,
          "points": 1.5,
          "schema_version": 3,
          "solution": false,
          "task": false
        },
        "id": "M4YD_T0_hVzj",
        "colab": {
          "base_uri": "https://localhost:8080/"
        },
        "outputId": "e8b02048-0f1a-4c01-f1f9-3a8bf7b48b40"
      },
      "outputs": [
        {
          "output_type": "stream",
          "name": "stdout",
          "text": [
            "Correlation coefficient for dataset 1: 0.9042.\n",
            "Correlation coefficient for dataset 2: -0.8156.\n"
          ]
        }
      ],
      "source": [
        "# These visible tests with fake data should work\n",
        "from nose.tools import ok_, assert_equal\n",
        "\n",
        "# Fake data for pearson tests\n",
        "x1 = np.array([1.0, 2.0, 3.0])\n",
        "y1 = np.array([1.0, 2.0, 2.1])\n",
        "x2 = np.array([1.0, 2.0, 2.5, 3.6, 4.2, 5.9])\n",
        "y2 = np.array([5.7, 4.2, 3.6, 5.4, 2.0, 1.0])\n",
        "\n",
        "# Fake correlation coefficients\n",
        "r1 = pearson(x1, y1)\n",
        "r2 = pearson(x2, y2)\n",
        "\n",
        "# Print results\n",
        "print(f\"Correlation coefficient for dataset 1: {r1:.4f}.\")\n",
        "print(f\"Correlation coefficient for dataset 2: {r2:.4f}.\")\n",
        "\n",
        "# Check that the pearson function works\n",
        "assert_equal(round(r1, 4), 0.9042)\n",
        "assert_equal(round(r2, 4), -0.8156)"
      ]
    },
    {
      "cell_type": "markdown",
      "metadata": {
        "deletable": false,
        "editable": false,
        "nbgrader": {
          "cell_type": "markdown",
          "checksum": "bebff83607b4fd8b8ef6bc68f73e07e8",
          "grade": false,
          "grade_id": "cell-e3d136273661ea67",
          "locked": true,
          "schema_version": 3,
          "solution": false,
          "task": false
        },
        "tags": [],
        "id": "0v8ks-bxhVzj"
      },
      "source": [
        "### Part 2: Calculating correlation coefficients (1.5 points)\n",
        "\n",
        "Next, we can calculate the correlation coefficients for our weather data.\n",
        "\n",
        "- Calculate correlation coefficients for the summer and winter and for both time ranges (the entire range of years, and 2003-2022) using your `pearson()` function.\n",
        "You should name these values as follows:\n",
        "    - Entire range of years: `r_winter` for winter and `r_summer` for summer\n",
        "    - Last 20 years: `r_winter20` for winter, `r_summer20` for summer"
      ]
    },
    {
      "cell_type": "code",
      "execution_count": 13,
      "metadata": {
        "deletable": false,
        "nbgrader": {
          "cell_type": "code",
          "checksum": "0700ea605d2ca89d018b7bc1f0f7155b",
          "grade": false,
          "grade_id": "problem_2_ag_p2_r",
          "locked": false,
          "schema_version": 3,
          "solution": true,
          "task": false
        },
        "id": "PMEqZ7TbhVzj"
      },
      "outputs": [],
      "source": [
        "# Use the same x and y from the previous codes\n",
        "\n",
        "r_winter = pearson(x_years, y_winter)\n",
        "r_summer = pearson(x_years, y_summer)\n",
        "r_winter20 = pearson(x_years20, y_winter20)\n",
        "r_summer20 = pearson(x_years20, y_summer20)"
      ]
    },
    {
      "cell_type": "code",
      "execution_count": 14,
      "metadata": {
        "deletable": false,
        "nbgrader": {
          "cell_type": "code",
          "checksum": "b8b752a1a6d15e0fc137378ef1131dc3",
          "grade": true,
          "grade_id": "problem_2_ag_p2_r_variable_tests",
          "locked": true,
          "points": 0.5,
          "schema_version": 3,
          "solution": false,
          "task": false
        },
        "tags": [],
        "id": "U1QCwD80hVzj",
        "colab": {
          "base_uri": "https://localhost:8080/"
        },
        "outputId": "7e437c8f-d7e6-43f5-d57b-85c1c07c0a8f"
      },
      "outputs": [
        {
          "output_type": "stream",
          "name": "stdout",
          "text": [
            "Your winter (all years) correlation coefficient: 0.1966. Expected value: 0.1966.\n"
          ]
        }
      ],
      "source": [
        "# This test should work\n",
        "print(f\"Your winter (all years) correlation coefficient: {r_winter:.4f}. Expected value: 0.1966.\")\n"
      ]
    },
    {
      "cell_type": "code",
      "execution_count": 15,
      "metadata": {
        "deletable": false,
        "nbgrader": {
          "cell_type": "code",
          "checksum": "5b27748642892d65b776a76f5c76aa92",
          "grade": true,
          "grade_id": "problem_2_ag_p2_r_value_test",
          "locked": true,
          "points": 1,
          "schema_version": 3,
          "solution": false,
          "task": false
        },
        "tags": [],
        "id": "0bXEAa9-hVzk",
        "colab": {
          "base_uri": "https://localhost:8080/"
        },
        "outputId": "3b5d3b2b-e45a-4bba-b0be-fa3724d9fd8e"
      },
      "outputs": [
        {
          "output_type": "stream",
          "name": "stdout",
          "text": [
            "Your summer (last 20 years) correlation coefficient: 0.2144. Expected value: 0.2144.\n"
          ]
        }
      ],
      "source": [
        "# This test should work\n",
        "print(f\"Your summer (last 20 years) correlation coefficient: {r_summer20:.4f}. Expected value: 0.2144.\")\n"
      ]
    },
    {
      "cell_type": "markdown",
      "metadata": {
        "deletable": false,
        "nbgrader": {
          "cell_type": "markdown",
          "checksum": "290d04e600fef20f09b06240cbc23643",
          "grade": false,
          "grade_id": "cell-91103535d6ea8ab4",
          "locked": true,
          "schema_version": 3,
          "solution": false,
          "task": false
        },
        "tags": [],
        "id": "aw83GoHUhVzk"
      },
      "source": [
        "### Part 3: Plotting your results, round 2 (3 points)\n",
        "\n",
        "Now we can generate a pair of plots showing the data along with the calculated $r$ values.\n",
        "\n",
        "- Create 2 plots of the seasonal temperature data: (**1**) one for the entire time covered in the data and (**2**) another for the last 20 years of data\n",
        "    - Plot the seasonal average temperature data as a Pandas scatter plot **without** error bars for the standard deviation in seasonal temperature\n",
        "    - Also include the regression lines for each season from Problem 1 to compare to the yearly temperature data. You may want to consult [the hints for this week's exercise](https://introqg-site.readthedocs.io/en/latest/lessons/L2/exercise-2.html) about how to plot the regression lines.\n",
        "    - Plot the temperature data for both seasons on the same plot, using a warm color (e.g., red) for summer and a cool color (e.g., blue) for winter. You can find some convenient color names you can use in the [Matplotlib documentation online](https://matplotlib.org/stable/gallery/color/named_colors.html).\n",
        "    - Be sure to set the figure size to be slightly larger, as was done in Exercise 8\n",
        "- Include axis labels, a title and a legend for each plot, as well as text displaying the correlation coefficients for both the summer and winter seasons\n",
        "    - If your plot legend is empty, be sure that you have a label included for the scatter plot for each season with the text name of that season\n",
        "- Add figure captions in the Markdown cell below each Python cell for your plots that describe the plots as if they were in a scientific journal article"
      ]
    },
    {
      "cell_type": "code",
      "execution_count": 16,
      "metadata": {
        "deletable": false,
        "editable": false,
        "nbgrader": {
          "cell_type": "code",
          "checksum": "3f6b1267589a0dc5e249e5c20d179220",
          "grade": true,
          "grade_id": "problem_2_mg_p3_plot_all",
          "locked": false,
          "points": 1,
          "schema_version": 3,
          "solution": true,
          "task": false
        },
        "tags": [],
        "id": "0zEYab3uhVzk",
        "colab": {
          "base_uri": "https://localhost:8080/",
          "height": 641
        },
        "outputId": "897a1957-5854-40a6-ebfe-f2909debc882"
      },
      "outputs": [
        {
          "output_type": "display_data",
          "data": {
            "text/plain": [
              "<Figure size 1100x700 with 1 Axes>"
            ],
            "image/png": "[encoded data removed]"
          },
          "metadata": {}
        }
      ],
      "source": [
        "# Plot for all years goes here\n",
        "\n",
        "plt.figure(figsize=(11,7))\n",
        "plt.scatter(x_years, y_winter, label = \"Winter\", color = 'c')\n",
        "plt.scatter(x_years, y_summer, label = \"Summer\", color = 'r')\n",
        "plt.plot(x_years, line_eq(B_winter, x_years, A_winter), color = 'c', linewidth = 1, label = f\"R: {r_winter:.3f}\")\n",
        "plt.plot(x_years, line_eq(B_summer, x_years, A_summer), color = 'r', linewidth = 1, label = f\"R: {r_summer:.3f}\")\n",
        "plt.legend(loc = 'upper left',prop = {'size':8})\n",
        "plt.xlabel(\"Year\")\n",
        "plt.ylabel(f\"Mean Temperature (\\N{DEGREE SIGN} C)\")\n",
        "plt.title(\"Temperature Data for the Entire Observation Period\")\n",
        "plt.show()"
      ]
    },
    {
      "cell_type": "markdown",
      "metadata": {
        "deletable": false,
        "nbgrader": {
          "cell_type": "markdown",
          "checksum": "6b3190893d1b76ad25e4ab4624aa0dda",
          "grade": true,
          "grade_id": "problem_2_mg_p3_plot_all_caption",
          "locked": false,
          "points": 0.5,
          "schema_version": 3,
          "solution": true,
          "task": false
        },
        "id": "YaSaSGnqhVzk"
      },
      "source": [
        "Figure 3. The plot shows the mean temperature for the months of January (winter) and May (summer) from 1966 to 2022. The R-values of 0.197 and 0.039 for winter and summer, respectively, indicates that temperature variations for each season has very minimal correlation with year."
      ]
    },
    {
      "cell_type": "code",
      "execution_count": 17,
      "metadata": {
        "deletable": false,
        "nbgrader": {
          "cell_type": "code",
          "checksum": "611e170fb24020d78c3cb568a240bcaf",
          "grade": true,
          "grade_id": "problem_2_mg_p3_plot_20",
          "locked": false,
          "points": 1,
          "schema_version": 3,
          "solution": true,
          "task": false
        },
        "id": "WzRpdcEqhVzk",
        "colab": {
          "base_uri": "https://localhost:8080/",
          "height": 641
        },
        "outputId": "72b29469-ff7a-4dcc-a56a-71eb0ea561c6"
      },
      "outputs": [
        {
          "output_type": "display_data",
          "data": {
            "text/plain": [
              "<Figure size 1100x700 with 1 Axes>"
            ],
            "image/png": "[encoded data removed]"
          },
          "metadata": {}
        }
      ],
      "source": [
        "# Plot for the last 20 years goes here\n",
        "\n",
        "plt.figure(figsize=(11,7))\n",
        "plt.scatter(x_years20, y_winter20, color = 'c', label = 'Winter')\n",
        "plt.scatter(x_years20, y_summer20, color = 'r', label = 'Summer')\n",
        "plt.plot(x_years20, line_eq(B_winter20, x_years20, A_winter20), color = 'c', linewidth = 1, label = f\"R: {r_winter20:.3f}\")\n",
        "plt.plot(x_years20, line_eq(B_summer20, x_years20, A_summer20), color = 'r', linewidth = 1, label = f\"R: {r_summer20:.3f}\")\n",
        "plt.legend(loc = 'upper left',prop = {'size':8})\n",
        "plt.xticks(x_years20)\n",
        "plt.xlabel(\"Year\")\n",
        "plt.ylabel(f\"Mean Temperature (\\N{DEGREE SIGN} C)\")\n",
        "plt.title(\"Mean Temperature during January and May from 2003 to 2022\")\n",
        "plt.show()"
      ]
    },
    {
      "cell_type": "markdown",
      "metadata": {
        "deletable": false,
        "nbgrader": {
          "cell_type": "markdown",
          "checksum": "dc3d821eddc9ed11e438def4039bfdcc",
          "grade": true,
          "grade_id": "problem_2_mg_p3_plot_20_caption",
          "locked": false,
          "points": 0.5,
          "schema_version": 3,
          "solution": true,
          "task": false
        },
        "id": "7ofakQ2ThVzk"
      },
      "source": [
        "Figure 4. The plot shows the mean temperature for the months of January (winter) and May (summer) from 2003 to 2022. The R-values of 0.394 and 0.214 for winter and summer, respectively, suggests weak correlation of temperature and time."
      ]
    },
    {
      "cell_type": "markdown",
      "metadata": {
        "deletable": false,
        "editable": false,
        "nbgrader": {
          "cell_type": "markdown",
          "checksum": "d47de8a48f291e23ebe67690546dc5b9",
          "grade": false,
          "grade_id": "cell-078abcdc4257fb89",
          "locked": true,
          "schema_version": 3,
          "solution": false,
          "task": false
        },
        "tags": [],
        "id": "MwJZlGybhVzk"
      },
      "source": [
        "## Problem 3: Calculating a goodness-of-fit (3.5 points)\n",
        "\n",
        "The final part of the exercise this week is to calculate a goodness-of-fit for the lines fit to the data in Problem 1. The idea here is to consider that we have an expected value of the temperature based on our least-squares regressions, and we can see how well those expected values fit within the standard deviation of the seasonal temperatures.\n",
        "\n",
        "### Scores for this problem\n",
        "\n",
        "**Your score on this problem will be based on following criteria**:\n",
        "\n",
        "- Properly converting the goodness-of-fit formula to a Python function and adding that function to your `gdam_functions.py` script file\n",
        "- Calculating goodness-of-fit values for summer and winter and for the two different time periods\n",
        "- Including comments that explain what most lines in the code do\n",
        "- Uploading your notebook and modified script file to your GitHub repository for this week's exercise"
      ]
    },
    {
      "cell_type": "markdown",
      "metadata": {
        "deletable": false,
        "nbgrader": {
          "cell_type": "markdown",
          "checksum": "3be9bb8d5b7aa6787bc1022f78575466",
          "grade": false,
          "grade_id": "cell-78e23624db7b4962",
          "locked": true,
          "schema_version": 3,
          "solution": false,
          "task": false
        },
        "tags": [],
        "id": "lgsh0-D1hVzk"
      },
      "source": [
        "### Part 1: A goodness-of-fit function (1.5 points)\n",
        "\n",
        "We can start by creating a function to calculate the goodness-of-fit. For this, you can use the reduced chi-squared equation,\n",
        "\n",
        "\\begin{equation}\n",
        "  \\Large\n",
        "  \\chi^{2} = \\frac{1}{N} \\sum \\frac{(O_{i} - E_{i})^{2}}{\\sigma_{i}^2}\n",
        "\\end{equation}\n",
        "\n",
        "where $N$ is the number of ages, $O_{i}$ is the $i$th observed value, $E_{i}$ is the $i$th expected value, and $\\sigma_{i}$ is the $i$th standard deviation.\n",
        "\n",
        "For this part you should:\n",
        "\n",
        "- Create a function called `chi_squared` in your `gdam_functions.py` script file that can be used to calculate the reduced chi-squared value"
      ]
    },
    {
      "cell_type": "code",
      "execution_count": 18,
      "metadata": {
        "deletable": false,
        "editable": false,
        "nbgrader": {
          "cell_type": "code",
          "checksum": "c9fd516a2828519384ba3ba1744c35af",
          "grade": false,
          "grade_id": "problem_3_ag_p1_function",
          "locked": false,
          "schema_version": 3,
          "solution": true,
          "task": false
        },
        "tags": [],
        "id": "0AysjMZZhVzk"
      },
      "outputs": [],
      "source": [
        "# Import your new function below using the format \"from introqg_functions import chi_squared\"\n",
        "# (just copy and paste the text in quotes above in place of \"raise NotImplementedError()\")\n",
        "\n",
        "# Importing chi_squared function\n",
        "from gdam_functions import chi_squared"
      ]
    },
    {
      "cell_type": "code",
      "execution_count": 19,
      "metadata": {
        "deletable": false,
        "editable": false,
        "nbgrader": {
          "cell_type": "code",
          "checksum": "322f4d7844028256799ac5c389073a09",
          "grade": true,
          "grade_id": "problem_3_ag_p1_function_tests",
          "locked": true,
          "points": 1.5,
          "schema_version": 3,
          "solution": false,
          "task": false
        },
        "id": "_vb5uNbChVzl",
        "colab": {
          "base_uri": "https://localhost:8080/"
        },
        "outputId": "6ba625ce-6eff-4043-e608-05f0c016f132"
      },
      "outputs": [
        {
          "output_type": "stream",
          "name": "stdout",
          "text": [
            "Goodness-of-fit for dataset 1: 1.2340.\n",
            "Goodness-of-fit for dataset 2: 2.6139.\n"
          ]
        }
      ],
      "source": [
        "# These visible tests with fake data should work\n",
        "from nose.tools import ok_, assert_equal\n",
        "\n",
        "# Fake data\n",
        "obs1 = np.array([1.1, 2.9, 2.6, 3.5, 5.7, 2.8])\n",
        "exp1 = np.array([1.5, 2.4, 3.6, 1.5, 6.7, 2.6])\n",
        "std1 = np.array([0.5, 1.4, 0.6, 1.5, 0.7, 1.0])\n",
        "\n",
        "obs2 = np.array([1.8, 2.3, 2.2, 3.9, 5.5, 2.4])\n",
        "exp2 = np.array([1.2, 2.0, 3.9, 1.7, 6.1, 2.9])\n",
        "std2 = np.array([0.2, 0.4, 1.6, 2.5, 0.5, 0.3])\n",
        "\n",
        "# Fake goodness-of-fit values\n",
        "cs1 = chi_squared(obs1, exp1, std1)\n",
        "cs2 = chi_squared(obs2, exp2, std2)\n",
        "\n",
        "# Print results\n",
        "print(f\"Goodness-of-fit for dataset 1: {cs1:.4f}.\")\n",
        "print(f\"Goodness-of-fit for dataset 2: {cs2:.4f}.\")\n",
        "\n",
        "# Check that the chi-squared function works\n",
        "assert_equal(round(cs1, 4), 1.2340)\n",
        "assert_equal(round(cs2, 4), 2.6139)"
      ]
    },
    {
      "cell_type": "markdown",
      "metadata": {
        "deletable": false,
        "editable": false,
        "nbgrader": {
          "cell_type": "markdown",
          "checksum": "a4993c3b67ba94ba97ee6d8a7cdbb2bf",
          "grade": false,
          "grade_id": "cell-93543a9877453a0c",
          "locked": true,
          "schema_version": 3,
          "solution": false,
          "task": false
        },
        "id": "uT_AKv51hVzl"
      },
      "source": [
        "### Part 2: Calculating goodness-of-fit (2 points)\n",
        "\n",
        "Next, we can calculate the goodness-of-fit for each point along our line and the corresponding observed seasonal mean temperaure. We will do this by first creating arrays of expected temperature values for each season and time period, and then calculating the goodness-of-fit between those expected values and the observed temperatures.\n",
        "\n",
        "- Create 4 arrays that contain the expected temperature value for each year based on the equation for the regression lines calculated in Problem 1\n",
        "    - The variables `exp_winter` and `exp_summer` can be used for all years, while `exp_winter20` and `exp_summer20` can be used for the last 20 years\n",
        "- Calculate the goodness-of-fit between the expected values and the observed mean seasonal temperatures\n",
        "    - The variables `gof_winter` and `gof_summer` can be used for all years, while `gof_winter20` and `gof_summer20` can be used for the last 20 years"
      ]
    },
    {
      "cell_type": "code",
      "execution_count": 20,
      "metadata": {
        "deletable": false,
        "nbgrader": {
          "cell_type": "code",
          "checksum": "eba3892441cfb7d78e75cfebf6d9eb0a",
          "grade": false,
          "grade_id": "problem_3_ag_p2_values",
          "locked": false,
          "schema_version": 3,
          "solution": true,
          "task": false
        },
        "id": "RNcazGGmhVzl"
      },
      "outputs": [],
      "source": [
        "# Expected temperatures based on least-squares regression in Problem 1\n",
        "exp_winter = B_winter * x_years + A_winter\n",
        "exp_summer = B_summer * x_years + A_summer\n",
        "exp_winter20 = B_winter20 * x_years20 + A_winter20\n",
        "exp_summer20 = B_summer20 * x_years20 + A_summer20\n",
        "\n",
        "# Goodness-of-fit values using the chi_squared function\n",
        "gof_winter = chi_squared(y_winter, exp_winter, winter_std)\n",
        "gof_summer = chi_squared(y_summer, exp_summer, summer_std)\n",
        "gof_winter20 = chi_squared(y_winter20, exp_winter20, winter20_std)\n",
        "gof_summer20 = chi_squared(y_summer20, exp_summer20, summer20_std)"
      ]
    },
    {
      "cell_type": "code",
      "execution_count": 21,
      "metadata": {
        "deletable": false,
        "editable": false,
        "nbgrader": {
          "cell_type": "code",
          "checksum": "c6ed9c9fc2e13ba461193105e4dd792b",
          "grade": true,
          "grade_id": "problem_3_ag_p2_values_tests1",
          "locked": true,
          "points": 1,
          "schema_version": 3,
          "solution": false,
          "task": false
        },
        "tags": [],
        "id": "ZJujIlYihVzl",
        "colab": {
          "base_uri": "https://localhost:8080/"
        },
        "outputId": "04e0b4aa-5923-4d5c-af83-ae42bf280dfd"
      },
      "outputs": [
        {
          "output_type": "stream",
          "name": "stdout",
          "text": [
            "My mean expected winter temperature: 26.6490. Expected value: 26.6489.\n"
          ]
        }
      ],
      "source": [
        "# This test should work\n",
        "print(f\"My mean expected winter temperature: {np.mean(exp_winter):.4f}. Expected value: 26.6489.\")\n"
      ]
    },
    {
      "cell_type": "code",
      "execution_count": 22,
      "metadata": {
        "deletable": false,
        "editable": false,
        "nbgrader": {
          "cell_type": "code",
          "checksum": "5a3e413d37bd83bc6b12fc1bc41862f2",
          "grade": true,
          "grade_id": "problem_3_ag_p2_values_tests2",
          "locked": true,
          "points": 1,
          "schema_version": 3,
          "solution": false,
          "task": false
        },
        "tags": [],
        "id": "gnl08lkGhVzl",
        "colab": {
          "base_uri": "https://localhost:8080/"
        },
        "outputId": "4c70c76e-b3b8-43c3-ad63-05dd5869e237"
      },
      "outputs": [
        {
          "output_type": "stream",
          "name": "stdout",
          "text": [
            "My summer (all years) goodness-of-fit: 0.5692. Expected value: 0.5692.\n"
          ]
        }
      ],
      "source": [
        "# This test should work\n",
        "print(f\"My summer (all years) goodness-of-fit: {gof_summer:.4f}. Expected value: 0.5692.\")\n"
      ]
    },
    {
      "cell_type": "code",
      "execution_count": 23,
      "metadata": {
        "deletable": false,
        "editable": false,
        "nbgrader": {
          "cell_type": "code",
          "checksum": "16a3773f5eea16fb7d7b1fd2ac673879",
          "grade": false,
          "grade_id": "cell-8f125f97726bfce5",
          "locked": true,
          "schema_version": 3,
          "solution": false,
          "task": false
        },
        "id": "S-nsFZ6yhVzl",
        "colab": {
          "base_uri": "https://localhost:8080/"
        },
        "outputId": "9e3591b1-fde7-4e75-a157-269d1ae487a4"
      },
      "outputs": [
        {
          "output_type": "stream",
          "name": "stdout",
          "text": [
            "My winter goodness-of-fit values:\n",
            "    All years:     0.3890\n",
            "    Last 20 years: 0.2378\n",
            "\n",
            "My summer goodness-of-fit values:\n",
            "    All years:     0.5692\n",
            "    Last 20 years: 0.8161\n"
          ]
        }
      ],
      "source": [
        "# Run this cell to print all of your calculated goodness-of-fit values\n",
        "print(f\"My winter goodness-of-fit values:\\n    All years:     {gof_winter:.4f}\\n    Last 20 years: {gof_winter20:.4f}\\n\")\n",
        "print(f\"My summer goodness-of-fit values:\\n    All years:     {gof_summer:.4f}\\n    Last 20 years: {gof_summer20:.4f}\")"
      ]
    },
    {
      "cell_type": "markdown",
      "metadata": {
        "deletable": false,
        "nbgrader": {
          "cell_type": "markdown",
          "checksum": "d62ab907d64ce358b9487dce9d3d92b5",
          "grade": false,
          "grade_id": "cell-87820fee32bff471",
          "locked": true,
          "schema_version": 3,
          "solution": false,
          "task": false
        },
        "tags": [],
        "id": "gse8vaRWhVzl"
      },
      "source": [
        "## Summary questions for Exercise 2 (2 points; 0.5 points each)\n",
        "\n",
        "Answer the questions below in a few sentences.\n",
        "\n",
        "1. Based on the least-squares regressions calculated in Problem 1, how have summer and winter temperatures changed in Mactan over the time 1966-2022? Is the trend similar for both seasons? What about when you consider only the data over the last 20 years? Do you have any first-hand experience that relates to these temperature trends? If so, what?\n",
        "2. Based on the calculation of the correlation coefficients in Problem 2, how well does it seem the data are fit by a line? Are there any significant differences between seasons or time periods in the calculated $r$ values?\n",
        "3. Looking at the goodness-of-fit values calculated in Problem 3, how well does it appear the data are fit by a regression line? Do you see differences between seasons ot time period considered?\n",
        "4. Comparing the calculated $\\chi^{2}$ values from Problem 3 to the $r$ values in Problem 2, what differences do you see in the numbers between seasons and/or time periods? Can you think of reasons why the $r$ and $\\chi^{2}$ values might differ in terms of their relative values in each season/time period? How are the $r$ and $\\chi^{2}$ values different in terms of what they measure?"
      ]
    },
    {
      "cell_type": "markdown",
      "metadata": {
        "deletable": false,
        "nbgrader": {
          "cell_type": "markdown",
          "checksum": "b60be3b337c27d44f1f9bf38dc17346b",
          "grade": true,
          "grade_id": "exercise_2_mg_questions",
          "locked": false,
          "points": 2,
          "schema_version": 3,
          "solution": true
        },
        "id": "eM3ifZdahVzs"
      },
      "source": [
        "Answers:\n",
        "1. The temperature changes in Mactan does not have a general trend.  This observation is also true when considering data for the last 20 years.\n",
        "\n",
        "2. Low $r$ values (weak correlation coefficient) were obtained in problem 2, suggesting a poor linear fit. However, $r$ values for the summer and winter data for the last 20 years were higher by a value of ~2 compared to the data for all observation years.\n",
        "\n",
        "3. Using the goodness-of-fit values, summer values have obtained a generally weaker fit than the summer values. The winter data is closer to the regression line than the summer data. As for the differences between the entire years and 20 years for the summer and winter, the entire data for winter have higher chi-squared value than the 20 years data while the opposite is observed for summer.\n",
        "\n",
        "4. The $r$ value shows the correlation of the year and temperature  while the $\\chi^{2}$ shows the difference between the expected temperature from the linear regression and actual temperature data. The lower $r$ value corresponds to the independence of temperature on time while the higher $\\chi^{2}$ suggests a large discrepancy on the expected temperature.\n",
        "\n",
        "  In the entire observation period, the winter data is more linearly correlated with the year than summer data, thus it is expected that the $\\chi^{2}$ values are lower for winter than summer. This is also true for the last 20 years observations.\n",
        "\n",
        "  The possible reason for the difference in the relative values of $r$ and $\\chi^{2}$ is the worsening of global warming. It can be observed that the temperature data for summer is more scattered and farther from the line. This scattered data is reflected on the large $\\chi^{2}$ value, especially during the last 20 years wherein it is close to 1."
      ]
    },
    {
      "cell_type": "code",
      "source": [],
      "metadata": {
        "id": "xqhNaDhDoY5o"
      },
      "execution_count": 23,
      "outputs": []
    }
  ],
  "metadata": {
    "kernelspec": {
      "display_name": "Python 3 (ipykernel)",
      "language": "python",
      "name": "python3"
    },
    "language_info": {
      "codemirror_mode": {
        "name": "ipython",
        "version": 3
      },
      "file_extension": ".py",
      "mimetype": "text/x-python",
      "name": "python",
      "nbconvert_exporter": "python",
      "pygments_lexer": "ipython3",
      "version": "3.10.12"
    },
    "colab": {
      "provenance": []
    }
  },
  "nbformat": 4,
  "nbformat_minor": 0
}